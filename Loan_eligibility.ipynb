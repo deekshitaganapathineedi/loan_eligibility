{
  "nbformat": 4,
  "nbformat_minor": 0,
  "metadata": {
    "colab": {
      "provenance": []
    },
    "kernelspec": {
      "name": "python3",
      "display_name": "Python 3"
    },
    "language_info": {
      "name": "python"
    }
  },
  "cells": [
    {
      "cell_type": "code",
      "execution_count": null,
      "metadata": {
        "colab": {
          "base_uri": "https://localhost:8080/"
        },
        "id": "KslC1KEzzhip",
        "outputId": "9130d715-2a54-4825-e5ca-2910a1ca31b3"
      },
      "outputs": [
        {
          "output_type": "stream",
          "name": "stdout",
          "text": [
            "Training Data:\n",
            "    Loan_ID Gender Married Dependents     Education Self_Employed  \\\n",
            "0  LP001002   Male      No          0      Graduate            No   \n",
            "1  LP001003   Male     Yes          1      Graduate            No   \n",
            "2  LP001005   Male     Yes          0      Graduate           Yes   \n",
            "3  LP001006   Male     Yes          0  Not Graduate            No   \n",
            "4  LP001008   Male      No          0      Graduate            No   \n",
            "\n",
            "   ApplicantIncome  CoapplicantIncome  LoanAmount  Loan_Amount_Term  \\\n",
            "0             5849                0.0         NaN             360.0   \n",
            "1             4583             1508.0       128.0             360.0   \n",
            "2             3000                0.0        66.0             360.0   \n",
            "3             2583             2358.0       120.0             360.0   \n",
            "4             6000                0.0       141.0             360.0   \n",
            "\n",
            "   Credit_History Property_Area Loan_Status  \n",
            "0             1.0         Urban           Y  \n",
            "1             1.0         Rural           N  \n",
            "2             1.0         Urban           Y  \n",
            "3             1.0         Urban           Y  \n",
            "4             1.0         Urban           Y  \n",
            "\n",
            "Test Data:\n",
            "    Loan_ID Gender Married Dependents     Education Self_Employed  \\\n",
            "0  LP001015   Male     Yes          0      Graduate            No   \n",
            "1  LP001022   Male     Yes          1      Graduate            No   \n",
            "2  LP001031   Male     Yes          2      Graduate            No   \n",
            "3  LP001035   Male     Yes          2      Graduate            No   \n",
            "4  LP001051   Male      No          0  Not Graduate            No   \n",
            "\n",
            "   ApplicantIncome  CoapplicantIncome  LoanAmount  Loan_Amount_Term  \\\n",
            "0             5720                  0       110.0             360.0   \n",
            "1             3076               1500       126.0             360.0   \n",
            "2             5000               1800       208.0             360.0   \n",
            "3             2340               2546       100.0             360.0   \n",
            "4             3276                  0        78.0             360.0   \n",
            "\n",
            "   Credit_History Property_Area  \n",
            "0             1.0         Urban  \n",
            "1             1.0         Urban  \n",
            "2             1.0         Urban  \n",
            "3             NaN         Urban  \n",
            "4             1.0         Urban  \n",
            "\n",
            "Missing values in Training Data:\n",
            "Loan_ID               0\n",
            "Gender               13\n",
            "Married               3\n",
            "Dependents           15\n",
            "Education             0\n",
            "Self_Employed        32\n",
            "ApplicantIncome       0\n",
            "CoapplicantIncome     0\n",
            "LoanAmount           22\n",
            "Loan_Amount_Term     14\n",
            "Credit_History       50\n",
            "Property_Area         0\n",
            "Loan_Status           0\n",
            "dtype: int64\n",
            "\n",
            "Missing values in Test Data:\n",
            "Loan_ID               0\n",
            "Gender               11\n",
            "Married               0\n",
            "Dependents           10\n",
            "Education             0\n",
            "Self_Employed        23\n",
            "ApplicantIncome       0\n",
            "CoapplicantIncome     0\n",
            "LoanAmount            5\n",
            "Loan_Amount_Term      6\n",
            "Credit_History       29\n",
            "Property_Area         0\n",
            "dtype: int64\n"
          ]
        }
      ],
      "source": [
        "import pandas as pd\n",
        "\n",
        "train_data = pd.read_csv('/content/loan-train.csv')\n",
        "test_data = pd.read_csv('/content/loan-test.csv')\n",
        "\n",
        "print(\"Training Data:\")\n",
        "print(train_data.head())\n",
        "\n",
        "print(\"\\nTest Data:\")\n",
        "print(test_data.head())\n",
        "\n",
        "print(\"\\nMissing values in Training Data:\")\n",
        "print(train_data.isnull().sum())\n",
        "\n",
        "print(\"\\nMissing values in Test Data:\")\n",
        "print(test_data.isnull().sum())\n"
      ]
    },
    {
      "cell_type": "markdown",
      "source": [
        "data cleaning and feature engineering"
      ],
      "metadata": {
        "id": "Kg0-td041yNA"
      }
    },
    {
      "cell_type": "code",
      "source": [
        "# Fill missing values\n",
        "train_data['Gender'].fillna(train_data['Gender'].mode()[0], inplace=True)\n",
        "train_data['Married'].fillna(train_data['Married'].mode()[0], inplace=True)\n",
        "train_data['Dependents'].fillna(train_data['Dependents'].mode()[0], inplace=True)\n",
        "train_data['Self_Employed'].fillna(train_data['Self_Employed'].mode()[0], inplace=True)\n",
        "train_data['LoanAmount'].fillna(train_data['LoanAmount'].median(), inplace=True)\n",
        "train_data['Loan_Amount_Term'].fillna(train_data['Loan_Amount_Term'].mode()[0], inplace=True)\n",
        "train_data['Credit_History'].fillna(train_data['Credit_History'].mode()[0], inplace=True)\n",
        "\n",
        "test_data['Gender'].fillna(test_data['Gender'].mode()[0], inplace=True)\n",
        "test_data['Married'].fillna(test_data['Married'].mode()[0], inplace=True)\n",
        "test_data['Dependents'].fillna(test_data['Dependents'].mode()[0], inplace=True)\n",
        "test_data['Self_Employed'].fillna(test_data['Self_Employed'].mode()[0], inplace=True)\n",
        "test_data['LoanAmount'].fillna(test_data['LoanAmount'].median(), inplace=True)\n",
        "test_data['Loan_Amount_Term'].fillna(test_data['Loan_Amount_Term'].mode()[0], inplace=True)\n",
        "test_data['Credit_History'].fillna(test_data['Credit_History'].mode()[0], inplace=True)\n",
        "\n",
        "# Convert categorical variables to numeric\n",
        "train_data['Gender'] = train_data['Gender'].map({'Male': 1, 'Female': 0})\n",
        "train_data['Married'] = train_data['Married'].map({'Yes': 1, 'No': 0})\n",
        "train_data['Education'] = train_data['Education'].map({'Graduate': 1, 'Not Graduate': 0})\n",
        "train_data['Self_Employed'] = train_data['Self_Employed'].map({'Yes': 1, 'No': 0})\n",
        "train_data['Property_Area'] = train_data['Property_Area'].map({'Urban': 2, 'Semiurban': 1, 'Rural': 0})\n",
        "train_data['Dependents'] = train_data['Dependents'].replace('3+', 3).astype(int)\n",
        "\n",
        "\n",
        "test_data['Gender'] = test_data['Gender'].map({'Male': 1, 'Female': 0})\n",
        "test_data['Married'] = test_data['Married'].map({'Yes': 1, 'No': 0})\n",
        "test_data['Education'] = test_data['Education'].map({'Graduate': 1, 'Not Graduate': 0})\n",
        "test_data['Self_Employed'] = test_data['Self_Employed'].map({'Yes': 1, 'No': 0})\n",
        "test_data['Property_Area'] = test_data['Property_Area'].map({'Urban': 2, 'Semiurban': 1, 'Rural': 0})\n",
        "test_data['Dependents'] = test_data['Dependents'].replace('3+', 3).astype(int)\n",
        "\n",
        "# Feature Scaling\n",
        "from sklearn.preprocessing import StandardScaler\n",
        "\n",
        "scaler = StandardScaler()\n",
        "train_data['LoanAmount'] = scaler.fit_transform(train_data[['LoanAmount']])\n",
        "test_data['LoanAmount'] = scaler.transform(test_data[['LoanAmount']])\n",
        "\n",
        "print(\"Data preprocessing completed.\")\n"
      ],
      "metadata": {
        "colab": {
          "base_uri": "https://localhost:8080/"
        },
        "id": "xvKjNj031vdz",
        "outputId": "b645e4e3-1970-4425-a4f0-fed17ce19f49"
      },
      "execution_count": null,
      "outputs": [
        {
          "output_type": "stream",
          "name": "stdout",
          "text": [
            "Data preprocessing completed.\n"
          ]
        }
      ]
    },
    {
      "cell_type": "code",
      "source": [
        "# Display the exact column names and the first few rows of the data\n",
        "print(\"Columns in the dataset:\")\n",
        "print(train_data.columns)\n",
        "\n",
        "print(\"\\nFirst few rows of the dataset:\")\n",
        "print(train_data.head())"
      ],
      "metadata": {
        "colab": {
          "base_uri": "https://localhost:8080/"
        },
        "id": "Bvmw6tqD3T-b",
        "outputId": "f77e1a24-15fc-41dd-df84-f2817c48e6f1"
      },
      "execution_count": null,
      "outputs": [
        {
          "output_type": "stream",
          "name": "stdout",
          "text": [
            "Columns in the dataset:\n",
            "Index(['Loan_ID', 'Gender', 'Married', 'Dependents', 'Education',\n",
            "       'Self_Employed', 'ApplicantIncome', 'CoapplicantIncome', 'LoanAmount',\n",
            "       'Loan_Amount_Term', 'Credit_History', 'Property_Area', 'Loan_Status'],\n",
            "      dtype='object')\n",
            "\n",
            "First few rows of the dataset:\n",
            "    Loan_ID  Gender  Married  Dependents  Education  Self_Employed  \\\n",
            "0  LP001002       1        0           0          1              0   \n",
            "1  LP001003       1        1           1          1              0   \n",
            "2  LP001005       1        1           0          1              1   \n",
            "3  LP001006       1        1           0          0              0   \n",
            "4  LP001008       1        0           0          1              0   \n",
            "\n",
            "   ApplicantIncome  CoapplicantIncome  LoanAmount  Loan_Amount_Term  \\\n",
            "0             5849                0.0   -0.211241             360.0   \n",
            "1             4583             1508.0   -0.211241             360.0   \n",
            "2             3000                0.0   -0.948996             360.0   \n",
            "3             2583             2358.0   -0.306435             360.0   \n",
            "4             6000                0.0   -0.056551             360.0   \n",
            "\n",
            "   Credit_History  Property_Area Loan_Status  \n",
            "0             1.0              2           Y  \n",
            "1             1.0              0           N  \n",
            "2             1.0              2           Y  \n",
            "3             1.0              2           Y  \n",
            "4             1.0              2           Y  \n"
          ]
        }
      ]
    },
    {
      "cell_type": "markdown",
      "source": [
        "split data"
      ],
      "metadata": {
        "id": "XPb6V07p2CHk"
      }
    },
    {
      "cell_type": "code",
      "source": [
        "from sklearn.model_selection import train_test_split\n",
        "\n",
        "# Separate features and target variable\n",
        "X = train_data.drop(columns=['Loan_ID', 'Loan_Status'])\n",
        "y = train_data['Loan_Status'].map({'Y': 1, 'N': 0})\n",
        "\n",
        "# Split the data\n",
        "X_train, X_val, y_train, y_val = train_test_split(X, y, test_size=0.2, random_state=42)\n",
        "\n",
        "print(\"Data splitting completed.\")\n",
        "\n"
      ],
      "metadata": {
        "colab": {
          "base_uri": "https://localhost:8080/"
        },
        "id": "IapfPPru18mx",
        "outputId": "39128d18-2f29-468b-afd6-6d2a722b666a"
      },
      "execution_count": null,
      "outputs": [
        {
          "output_type": "stream",
          "name": "stdout",
          "text": [
            "Data splitting completed.\n"
          ]
        }
      ]
    },
    {
      "cell_type": "markdown",
      "source": [
        "data modeling"
      ],
      "metadata": {
        "id": "ZI0UjVF437F0"
      }
    },
    {
      "cell_type": "code",
      "source": [
        "from sklearn.linear_model import LogisticRegression\n",
        "from sklearn.tree import DecisionTreeClassifier\n",
        "from sklearn.ensemble import RandomForestClassifier\n",
        "from xgboost import XGBClassifier\n",
        "from sklearn.model_selection import GridSearchCV\n",
        "\n",
        "# Logistic Regression\n",
        "log_reg = LogisticRegression(random_state=42)\n",
        "log_reg.fit(X_train, y_train)\n",
        "\n",
        "# Decision Tree\n",
        "tree = DecisionTreeClassifier(random_state=42)\n",
        "tree.fit(X_train, y_train)\n",
        "\n",
        "# Random Forest\n",
        "forest = RandomForestClassifier(random_state=42)\n",
        "forest.fit(X_train, y_train)\n",
        "\n",
        "# XGBoost\n",
        "\n",
        "\n",
        "print(\"Model training completed.\")\n"
      ],
      "metadata": {
        "colab": {
          "base_uri": "https://localhost:8080/"
        },
        "id": "7qlPAd1m36yY",
        "outputId": "4934b5dc-5649-4564-84e7-b8db1fe39f40"
      },
      "execution_count": null,
      "outputs": [
        {
          "output_type": "stream",
          "name": "stdout",
          "text": [
            "Model training completed.\n"
          ]
        }
      ]
    },
    {
      "cell_type": "markdown",
      "source": [
        "Evaluation"
      ],
      "metadata": {
        "id": "bvilCXNd5U5u"
      }
    },
    {
      "cell_type": "code",
      "source": [
        "from sklearn.svm import SVC\n",
        "from sklearn.neighbors import KNeighborsClassifier\n",
        "\n",
        "# Support Vector Machine (SVM)\n",
        "svm = SVC(probability=True, random_state=42)\n",
        "svm.fit(X_train, y_train)\n",
        "\n",
        "# K-Nearest Neighbors (KNN)\n",
        "knn = KNeighborsClassifier()\n",
        "knn.fit(X_train, y_train)\n",
        "\n",
        "# Adding the models to the dictionary for evaluation\n",
        "models = {\n",
        "    'Logistic Regression': log_reg,\n",
        "    'Decision Tree': tree,\n",
        "    'Random Forest': forest,\n",
        "    'SVM': svm,\n",
        "    'KNN': knn\n",
        "}\n",
        "\n",
        "# Evaluate all models using the same metrics as before\n",
        "for name, model in models.items():\n",
        "    y_pred = model.predict(X_val)\n",
        "    print(f\"--- {name} ---\")\n",
        "    print(f\"Accuracy: {accuracy_score(y_val, y_pred)}\")\n",
        "    print(f\"Precision: {precision_score(y_val, y_pred)}\")\n",
        "    print(f\"Recall: {recall_score(y_val, y_pred)}\")\n",
        "    print(f\"F1 Score: {f1_score(y_val, y_pred)}\")\n",
        "    print(f\"ROC AUC Score: {roc_auc_score(y_val, y_pred)}\")\n",
        "    print(f\"Confusion Matrix:\\n{confusion_matrix(y_val, y_pred)}\\n\")\n"
      ],
      "metadata": {
        "colab": {
          "base_uri": "https://localhost:8080/"
        },
        "id": "spX7hRWd5Phb",
        "outputId": "be7fb97d-81bf-4bc3-9daf-e967b81d78af"
      },
      "execution_count": null,
      "outputs": [
        {
          "output_type": "stream",
          "name": "stdout",
          "text": [
            "--- Logistic Regression ---\n",
            "Accuracy: 0.7886178861788617\n",
            "Precision: 0.7596153846153846\n",
            "Recall: 0.9875\n",
            "F1 Score: 0.8586956521739131\n",
            "ROC AUC Score: 0.7030523255813954\n",
            "Confusion Matrix:\n",
            "[[18 25]\n",
            " [ 1 79]]\n",
            "\n",
            "--- Decision Tree ---\n",
            "Accuracy: 0.6829268292682927\n",
            "Precision: 0.7469879518072289\n",
            "Recall: 0.775\n",
            "F1 Score: 0.7607361963190183\n",
            "ROC AUC Score: 0.6433139534883721\n",
            "Confusion Matrix:\n",
            "[[22 21]\n",
            " [18 62]]\n",
            "\n",
            "--- Random Forest ---\n",
            "Accuracy: 0.7642276422764228\n",
            "Precision: 0.7524752475247525\n",
            "Recall: 0.95\n",
            "F1 Score: 0.8397790055248618\n",
            "ROC AUC Score: 0.6843023255813954\n",
            "Confusion Matrix:\n",
            "[[18 25]\n",
            " [ 4 76]]\n",
            "\n",
            "--- SVM ---\n",
            "Accuracy: 0.6504065040650406\n",
            "Precision: 0.6504065040650406\n",
            "Recall: 1.0\n",
            "F1 Score: 0.7881773399014779\n",
            "ROC AUC Score: 0.5\n",
            "Confusion Matrix:\n",
            "[[ 0 43]\n",
            " [ 0 80]]\n",
            "\n",
            "--- KNN ---\n",
            "Accuracy: 0.5772357723577236\n",
            "Precision: 0.6320754716981132\n",
            "Recall: 0.8375\n",
            "F1 Score: 0.7204301075268816\n",
            "ROC AUC Score: 0.4652616279069768\n",
            "Confusion Matrix:\n",
            "[[ 4 39]\n",
            " [13 67]]\n",
            "\n"
          ]
        }
      ]
    },
    {
      "cell_type": "markdown",
      "source": [
        " Evaluation"
      ],
      "metadata": {
        "id": "W969gAH24Bp7"
      }
    },
    {
      "cell_type": "code",
      "source": [
        "# Using the best model, which is Logistic Regression, for predictions\n",
        "best_model = log_reg  # Assuming Logistic Regression is the best based on F1 Score\n",
        "\n",
        "# Prepare the test data (assuming the same preprocessing steps have been applied)\n",
        "X_test = test_data.drop(columns=['Loan_ID'])\n",
        "\n",
        "# Predict loan status on the test data\n",
        "y_test_pred = best_model.predict(X_test)\n",
        "\n",
        "# Prepare the submission file\n",
        "submission = pd.DataFrame({\n",
        "    'Loan_ID': test_data['Loan_ID'],\n",
        "    'Loan_Status': ['Y' if pred == 1 else 'N' for pred in y_test_pred]\n",
        "})\n",
        "\n",
        "# Save the submission file\n",
        "print(submission)\n"
      ],
      "metadata": {
        "colab": {
          "base_uri": "https://localhost:8080/"
        },
        "id": "LJ8Affsf4SEU",
        "outputId": "fc55e367-ba47-4aad-cddf-2fc819c3ec5f"
      },
      "execution_count": null,
      "outputs": [
        {
          "output_type": "stream",
          "name": "stdout",
          "text": [
            "      Loan_ID Loan_Status\n",
            "0    LP001015           Y\n",
            "1    LP001022           Y\n",
            "2    LP001031           Y\n",
            "3    LP001035           Y\n",
            "4    LP001051           Y\n",
            "..        ...         ...\n",
            "362  LP002971           Y\n",
            "363  LP002975           Y\n",
            "364  LP002980           Y\n",
            "365  LP002986           Y\n",
            "366  LP002989           Y\n",
            "\n",
            "[367 rows x 2 columns]\n"
          ]
        }
      ]
    },
    {
      "cell_type": "markdown",
      "source": [
        "best_model = log_reg:"
      ],
      "metadata": {
        "id": "wmXEhmt24nuR"
      }
    }
  ]
}